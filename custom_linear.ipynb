{
 "cells": [
  {
   "cell_type": "code",
   "execution_count": 2,
   "metadata": {},
   "outputs": [],
   "source": [
    "import torch\n",
    "import torch.nn as nn"
   ]
  },
  {
   "cell_type": "code",
   "execution_count": 4,
   "metadata": {},
   "outputs": [],
   "source": [
    "class LinearCustom(nn.Module):\n",
    "    def __init__(self, in_features: int, out_features: int, bias: bool = True):\n",
    "        super(LinearCustom, self).__init__()\n",
    "        self.in_features = in_features\n",
    "        self.out_features = out_features\n",
    "        self.weight = nn.Parameter(torch.randn(out_features, in_features) * (2 / (in_features + out_features)) ** 0.5)\n",
    "        if bias:\n",
    "            self.bias = nn.Parameter(torch.zeros(out_features))\n",
    "        else:\n",
    "            self.bias = None\n",
    "\n",
    "    def forward(self, x: torch.Tensor):\n",
    "        output = x @ self.weight.T\n",
    "        if self.bias is not None:\n",
    "            output += self.bias\n",
    "        return output"
   ]
  },
  {
   "cell_type": "code",
   "execution_count": 5,
   "metadata": {},
   "outputs": [
    {
     "name": "stdout",
     "output_type": "stream",
     "text": [
      "True\n"
     ]
    }
   ],
   "source": [
    "# Test your custom implementation\n",
    "x = torch.randn(10, 5)  # Batch of 10 samples, 5 features each\n",
    "linear_custom = LinearCustom(5, 3)  # Custom layer\n",
    "linear_pytorch = nn.Linear(5, 3)  # PyTorch layer\n",
    "\n",
    "# Copy weights and bias for comparison\n",
    "with torch.no_grad():\n",
    "    linear_pytorch.weight.copy_(linear_custom.weight)\n",
    "    linear_pytorch.bias.copy_(linear_custom.bias)\n",
    "\n",
    "# Compare outputs\n",
    "output_custom = linear_custom(x)\n",
    "output_pytorch = linear_pytorch(x)\n",
    "print(torch.allclose(output_custom, output_pytorch, atol=1e-6))  # Should print True"
   ]
  }
 ],
 "metadata": {
  "kernelspec": {
   "display_name": "DiT",
   "language": "python",
   "name": "python3"
  },
  "language_info": {
   "codemirror_mode": {
    "name": "ipython",
    "version": 3
   },
   "file_extension": ".py",
   "mimetype": "text/x-python",
   "name": "python",
   "nbconvert_exporter": "python",
   "pygments_lexer": "ipython3",
   "version": "3.12.7"
  }
 },
 "nbformat": 4,
 "nbformat_minor": 2
}
